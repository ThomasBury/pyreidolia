{
 "cells": [
  {
   "cell_type": "code",
   "execution_count": null,
   "id": "6ddbfd1c",
   "metadata": {},
   "outputs": [],
   "source": []
  },
  {
   "cell_type": "markdown",
   "id": "b8a20f65",
   "metadata": {},
   "source": [
    "use valid set, not test (open to discussion) -> import valid data and NN object"
   ]
  },
  {
   "cell_type": "markdown",
   "id": "241febd1",
   "metadata": {},
   "source": [
    "Which performance metric? The one they suggest in kaggle? Accuracy? Additional tests? "
   ]
  },
  {
   "cell_type": "markdown",
   "id": "14391193",
   "metadata": {},
   "source": [
    "Plot some overlays of prediction and the real label mask -> use this to debug the NN and think of possible improvements (preproc and NN arquitecture) for the next iteration."
   ]
  },
  {
   "cell_type": "code",
   "execution_count": null,
   "id": "10756e3d",
   "metadata": {},
   "outputs": [],
   "source": []
  }
 ],
 "metadata": {
  "kernelspec": {
   "display_name": "Python 3 (ipykernel)",
   "language": "python",
   "name": "python3"
  },
  "language_info": {
   "codemirror_mode": {
    "name": "ipython",
    "version": 3
   },
   "file_extension": ".py",
   "mimetype": "text/x-python",
   "name": "python",
   "nbconvert_exporter": "python",
   "pygments_lexer": "ipython3",
   "version": "3.9.7"
  }
 },
 "nbformat": 4,
 "nbformat_minor": 5
}
